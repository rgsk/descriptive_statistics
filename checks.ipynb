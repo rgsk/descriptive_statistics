{
 "cells": [
  {
   "cell_type": "code",
   "execution_count": 78,
   "metadata": {},
   "outputs": [],
   "source": [
    "min_length = 5"
   ]
  },
  {
   "cell_type": "code",
   "execution_count": 79,
   "metadata": {},
   "outputs": [],
   "source": [
    "def has_repeating_characters(word: str):\n",
    "    if len(word) < min_length:\n",
    "        return False\n",
    "    st = set()\n",
    "    for c in word:\n",
    "        st.add(c)\n",
    "    return len(st) == 1"
   ]
  },
  {
   "cell_type": "code",
   "execution_count": 80,
   "metadata": {},
   "outputs": [
    {
     "name": "stdout",
     "output_type": "stream",
     "text": [
      "True\n"
     ]
    }
   ],
   "source": [
    "print(has_repeating_characters('kkkkkk'))"
   ]
  },
  {
   "cell_type": "code",
   "execution_count": 81,
   "metadata": {},
   "outputs": [],
   "source": [
    "import string\n",
    "\n",
    "\n",
    "def has_continuous_characters(word: str):\n",
    "    if len(word) < min_length:\n",
    "        return False\n",
    "    reversed_word = word[::-1]\n",
    "    if word in string.digits:\n",
    "        return True\n",
    "    if reversed_word in string.digits:\n",
    "        return True\n",
    "    if word in string.ascii_letters:\n",
    "        return True\n",
    "    if reversed_word in string.ascii_letters:\n",
    "        return True\n",
    "    return False"
   ]
  },
  {
   "cell_type": "code",
   "execution_count": 82,
   "metadata": {},
   "outputs": [
    {
     "name": "stdout",
     "output_type": "stream",
     "text": [
      "True\n"
     ]
    }
   ],
   "source": [
    "print(has_continuous_characters('54321'))"
   ]
  },
  {
   "cell_type": "code",
   "execution_count": 83,
   "metadata": {},
   "outputs": [
    {
     "name": "stdout",
     "output_type": "stream",
     "text": [
      "True\n"
     ]
    }
   ],
   "source": [
    "print(has_continuous_characters('abcde'))"
   ]
  },
  {
   "cell_type": "code",
   "execution_count": 84,
   "metadata": {},
   "outputs": [
    {
     "name": "stdout",
     "output_type": "stream",
     "text": [
      "True\n"
     ]
    }
   ],
   "source": [
    "print(has_continuous_characters('98765'))"
   ]
  },
  {
   "cell_type": "code",
   "execution_count": 85,
   "metadata": {},
   "outputs": [],
   "source": [
    "def has_many_symbols(word: str):\n",
    "    if len(word) < min_length:\n",
    "        return False\n",
    "    punc_count = 0\n",
    "    for char in word:\n",
    "        if char in string.punctuation:\n",
    "            punc_count += 1\n",
    "    threshhold = len(word)//2\n",
    "    if punc_count > threshhold:\n",
    "        return True\n",
    "    return False"
   ]
  },
  {
   "cell_type": "code",
   "execution_count": 86,
   "metadata": {},
   "outputs": [
    {
     "name": "stdout",
     "output_type": "stream",
     "text": [
      "True\n"
     ]
    }
   ],
   "source": [
    "print(has_many_symbols('...df'))"
   ]
  },
  {
   "cell_type": "code",
   "execution_count": 87,
   "metadata": {},
   "outputs": [],
   "source": [
    "def has_keyboard_sequence(word: str):\n",
    "    if len(word) < min_length:\n",
    "        return False\n",
    "    sequences = [\n",
    "        '`1234567890-=',\n",
    "        'qwertyuiop[]\\\\',\n",
    "        'asdfghjkl;\\'',\n",
    "        'zxcvbnm,./',\n",
    "        '~!@#$%^&*()_+',\n",
    "        'QWERTYUIOP{}|',\n",
    "        'ASDFGHJKL:\"',\n",
    "        'ZXCVBNM<>?'\n",
    "    ]\n",
    "    reversed_word = word[::-1]\n",
    "    for seq in sequences:\n",
    "        if word in seq:\n",
    "            return True\n",
    "        if reversed_word in seq:\n",
    "            return True\n",
    "    return False\n"
   ]
  },
  {
   "cell_type": "code",
   "execution_count": 88,
   "metadata": {},
   "outputs": [
    {
     "name": "stdout",
     "output_type": "stream",
     "text": [
      "True\n"
     ]
    }
   ],
   "source": [
    "print(has_keyboard_sequence('qwerty'))"
   ]
  },
  {
   "cell_type": "code",
   "execution_count": 89,
   "metadata": {},
   "outputs": [
    {
     "name": "stdout",
     "output_type": "stream",
     "text": [
      "True\n"
     ]
    }
   ],
   "source": [
    "print(has_keyboard_sequence(';lkjhg'))"
   ]
  },
  {
   "cell_type": "code",
   "execution_count": 90,
   "metadata": {},
   "outputs": [],
   "source": [
    "def check_could_be_spam(word: str):\n",
    "    a = has_repeating_characters(word)\n",
    "    b = has_continuous_characters(word)\n",
    "    c = has_many_symbols(word)\n",
    "    d = has_keyboard_sequence(word)\n",
    "\n",
    "    return a or b or c or d"
   ]
  },
  {
   "cell_type": "code",
   "execution_count": 91,
   "metadata": {},
   "outputs": [
    {
     "name": "stdout",
     "output_type": "stream",
     "text": [
      "True\n",
      "True\n",
      "True\n",
      "True\n"
     ]
    }
   ],
   "source": [
    "spams_detected = [\n",
    "    'zzzzzzz',\n",
    "    'mnopqrst',\n",
    "    ';:f{}',\n",
    "    'poiuy'\n",
    "]\n",
    "for word in spams_detected:\n",
    "    print(check_could_be_spam(word))"
   ]
  },
  {
   "cell_type": "code",
   "execution_count": 92,
   "metadata": {},
   "outputs": [
    {
     "name": "stdout",
     "output_type": "stream",
     "text": [
      "False\n",
      "False\n",
      "False\n",
      "False\n"
     ]
    }
   ],
   "source": [
    "spams_not_detected = [\n",
    "    'ababab', # two characters repeating sequence, or any random sequence\n",
    "    'mnoapqrst', # a is added in between\n",
    "    '{House}', # symbols are less than characters\n",
    "    'qwertuiop' # y is missing\n",
    "]\n",
    "for word in spams_not_detected:\n",
    "    print(check_could_be_spam(word))"
   ]
  },
  {
   "cell_type": "code",
   "execution_count": null,
   "metadata": {},
   "outputs": [],
   "source": []
  }
 ],
 "metadata": {
  "kernelspec": {
   "display_name": "py3.10",
   "language": "python",
   "name": "python3"
  },
  "language_info": {
   "codemirror_mode": {
    "name": "ipython",
    "version": 3
   },
   "file_extension": ".py",
   "mimetype": "text/x-python",
   "name": "python",
   "nbconvert_exporter": "python",
   "pygments_lexer": "ipython3",
   "version": "3.10.4"
  },
  "orig_nbformat": 4
 },
 "nbformat": 4,
 "nbformat_minor": 2
}
